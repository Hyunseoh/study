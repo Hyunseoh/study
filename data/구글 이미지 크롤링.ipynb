{
 "cells": [
  {
   "cell_type": "code",
   "execution_count": 1,
   "id": "8c45b97c",
   "metadata": {},
   "outputs": [],
   "source": [
    "from selenium import webdriver \n",
    "from selenium.webdriver.common.keys import Keys \n",
    "import time \n",
    "import os \n",
    "import urllib.request"
   ]
  },
  {
   "cell_type": "code",
   "execution_count": 2,
   "id": "e36ba0b4",
   "metadata": {},
   "outputs": [
    {
     "name": "stderr",
     "output_type": "stream",
     "text": [
      "C:\\Users\\user\\AppData\\Local\\Temp/ipykernel_43576/4016268620.py:13: DeprecationWarning: executable_path has been deprecated, please pass in a Service object\n",
      "  driver = webdriver.Chrome(chromedriver)\n",
      "C:\\Users\\user\\AppData\\Local\\Temp/ipykernel_43576/4016268620.py:21: DeprecationWarning: find_element_by_* commands are deprecated. Please use find_element() instead\n",
      "  Keyword=driver.find_element_by_xpath('//*[@id=\"sbtc\"]/div/div[2]/input')\n",
      "C:\\Users\\user\\AppData\\Local\\Temp/ipykernel_43576/4016268620.py:24: DeprecationWarning: find_element_by_* commands are deprecated. Please use find_element() instead\n",
      "  driver.find_element_by_xpath('//*[@id=\"sbtc\"]/button').send_keys(Keys.ENTER)\n",
      "C:\\Users\\user\\AppData\\Local\\Temp/ipykernel_43576/4016268620.py:28: DeprecationWarning: find_element_by_* commands are deprecated. Please use find_element() instead\n",
      "  elem = driver.find_element_by_tag_name(\"body\")\n",
      "C:\\Users\\user\\AppData\\Local\\Temp/ipykernel_43576/4016268620.py:34: DeprecationWarning: find_element_by_* commands are deprecated. Please use find_element() instead\n",
      "  driver.find_element_by_xpath('//*[@id=\"islmp\"]/div/div/div/div[1]/div[4]/div[2]/input').click()\n",
      "C:\\Users\\user\\AppData\\Local\\Temp/ipykernel_43576/4016268620.py:44: DeprecationWarning: find_elements_by_* commands are deprecated. Please use find_elements() instead\n",
      "  images = driver.find_elements_by_css_selector(\"img.rg_i.Q4LuWd\")\n"
     ]
    },
    {
     "name": "stdout",
     "output_type": "stream",
     "text": [
      "아이유 찾은 이미지 개수: 678\n",
      "아이유 -다운로드 완료-\n"
     ]
    },
    {
     "ename": "WebDriverException",
     "evalue": "Message: chrome not reachable\n  (Session info: chrome=102.0.5005.63)\nStacktrace:\nBacktrace:\n\tOrdinal0 [0x002AB8F3+2406643]\n\tOrdinal0 [0x0023AF31+1945393]\n\tOrdinal0 [0x0012C610+837136]\n\tOrdinal0 [0x00120442+787522]\n\tOrdinal0 [0x00113F21+737057]\n\tOrdinal0 [0x0017A6F0+1156848]\n\tOrdinal0 [0x00174243+1131075]\n\tOrdinal0 [0x0014E636+976438]\n\tOrdinal0 [0x0014F546+980294]\n\tGetHandleVerifier [0x00519612+2498066]\n\tGetHandleVerifier [0x0050C920+2445600]\n\tGetHandleVerifier [0x00344F2A+579370]\n\tGetHandleVerifier [0x00343D36+574774]\n\tOrdinal0 [0x00241C0B+1973259]\n\tOrdinal0 [0x00246688+1992328]\n\tOrdinal0 [0x00246775+1992565]\n\tOrdinal0 [0x0024F8D1+2029777]\n\tBaseThreadInitThunk [0x765FFA29+25]\n\tRtlGetAppContainerNamedObjectPath [0x77BD7A7E+286]\n\tRtlGetAppContainerNamedObjectPath [0x77BD7A4E+238]\n\t(No symbol) [0x00000000]\n",
     "output_type": "error",
     "traceback": [
      "\u001b[1;31m---------------------------------------------------------------------------\u001b[0m",
      "\u001b[1;31mWebDriverException\u001b[0m                        Traceback (most recent call last)",
      "\u001b[1;32m~\\AppData\\Local\\Temp/ipykernel_43576/4016268620.py\u001b[0m in \u001b[0;36m<module>\u001b[1;34m\u001b[0m\n\u001b[0;32m     58\u001b[0m \u001b[1;33m\u001b[0m\u001b[0m\n\u001b[0;32m     59\u001b[0m \u001b[0mprint\u001b[0m\u001b[1;33m(\u001b[0m\u001b[0mkeyword\u001b[0m\u001b[1;33m+\u001b[0m\u001b[1;34m' -다운로드 완료-'\u001b[0m\u001b[1;33m)\u001b[0m\u001b[1;33m\u001b[0m\u001b[1;33m\u001b[0m\u001b[0m\n\u001b[1;32m---> 60\u001b[1;33m \u001b[0mdriver\u001b[0m\u001b[1;33m.\u001b[0m\u001b[0mclose\u001b[0m\u001b[1;33m(\u001b[0m\u001b[1;33m)\u001b[0m\u001b[1;33m\u001b[0m\u001b[1;33m\u001b[0m\u001b[0m\n\u001b[0m",
      "\u001b[1;32m~\\Anaconda3\\envs\\mysite\\lib\\site-packages\\selenium\\webdriver\\remote\\webdriver.py\u001b[0m in \u001b[0;36mclose\u001b[1;34m(self)\u001b[0m\n\u001b[0;32m    935\u001b[0m                 \u001b[0mdriver\u001b[0m\u001b[1;33m.\u001b[0m\u001b[0mclose\u001b[0m\u001b[1;33m(\u001b[0m\u001b[1;33m)\u001b[0m\u001b[1;33m\u001b[0m\u001b[1;33m\u001b[0m\u001b[0m\n\u001b[0;32m    936\u001b[0m         \"\"\"\n\u001b[1;32m--> 937\u001b[1;33m         \u001b[0mself\u001b[0m\u001b[1;33m.\u001b[0m\u001b[0mexecute\u001b[0m\u001b[1;33m(\u001b[0m\u001b[0mCommand\u001b[0m\u001b[1;33m.\u001b[0m\u001b[0mCLOSE\u001b[0m\u001b[1;33m)\u001b[0m\u001b[1;33m\u001b[0m\u001b[1;33m\u001b[0m\u001b[0m\n\u001b[0m\u001b[0;32m    938\u001b[0m \u001b[1;33m\u001b[0m\u001b[0m\n\u001b[0;32m    939\u001b[0m     \u001b[1;32mdef\u001b[0m \u001b[0mquit\u001b[0m\u001b[1;33m(\u001b[0m\u001b[0mself\u001b[0m\u001b[1;33m)\u001b[0m \u001b[1;33m->\u001b[0m \u001b[1;32mNone\u001b[0m\u001b[1;33m:\u001b[0m\u001b[1;33m\u001b[0m\u001b[1;33m\u001b[0m\u001b[0m\n",
      "\u001b[1;32m~\\Anaconda3\\envs\\mysite\\lib\\site-packages\\selenium\\webdriver\\remote\\webdriver.py\u001b[0m in \u001b[0;36mexecute\u001b[1;34m(self, driver_command, params)\u001b[0m\n\u001b[0;32m    422\u001b[0m         \u001b[0mresponse\u001b[0m \u001b[1;33m=\u001b[0m \u001b[0mself\u001b[0m\u001b[1;33m.\u001b[0m\u001b[0mcommand_executor\u001b[0m\u001b[1;33m.\u001b[0m\u001b[0mexecute\u001b[0m\u001b[1;33m(\u001b[0m\u001b[0mdriver_command\u001b[0m\u001b[1;33m,\u001b[0m \u001b[0mparams\u001b[0m\u001b[1;33m)\u001b[0m\u001b[1;33m\u001b[0m\u001b[1;33m\u001b[0m\u001b[0m\n\u001b[0;32m    423\u001b[0m         \u001b[1;32mif\u001b[0m \u001b[0mresponse\u001b[0m\u001b[1;33m:\u001b[0m\u001b[1;33m\u001b[0m\u001b[1;33m\u001b[0m\u001b[0m\n\u001b[1;32m--> 424\u001b[1;33m             \u001b[0mself\u001b[0m\u001b[1;33m.\u001b[0m\u001b[0merror_handler\u001b[0m\u001b[1;33m.\u001b[0m\u001b[0mcheck_response\u001b[0m\u001b[1;33m(\u001b[0m\u001b[0mresponse\u001b[0m\u001b[1;33m)\u001b[0m\u001b[1;33m\u001b[0m\u001b[1;33m\u001b[0m\u001b[0m\n\u001b[0m\u001b[0;32m    425\u001b[0m             response['value'] = self._unwrap_value(\n\u001b[0;32m    426\u001b[0m                 response.get('value', None))\n",
      "\u001b[1;32m~\\Anaconda3\\envs\\mysite\\lib\\site-packages\\selenium\\webdriver\\remote\\errorhandler.py\u001b[0m in \u001b[0;36mcheck_response\u001b[1;34m(self, response)\u001b[0m\n\u001b[0;32m    245\u001b[0m                 \u001b[0malert_text\u001b[0m \u001b[1;33m=\u001b[0m \u001b[0mvalue\u001b[0m\u001b[1;33m[\u001b[0m\u001b[1;34m'alert'\u001b[0m\u001b[1;33m]\u001b[0m\u001b[1;33m.\u001b[0m\u001b[0mget\u001b[0m\u001b[1;33m(\u001b[0m\u001b[1;34m'text'\u001b[0m\u001b[1;33m)\u001b[0m\u001b[1;33m\u001b[0m\u001b[1;33m\u001b[0m\u001b[0m\n\u001b[0;32m    246\u001b[0m             \u001b[1;32mraise\u001b[0m \u001b[0mexception_class\u001b[0m\u001b[1;33m(\u001b[0m\u001b[0mmessage\u001b[0m\u001b[1;33m,\u001b[0m \u001b[0mscreen\u001b[0m\u001b[1;33m,\u001b[0m \u001b[0mstacktrace\u001b[0m\u001b[1;33m,\u001b[0m \u001b[0malert_text\u001b[0m\u001b[1;33m)\u001b[0m  \u001b[1;31m# type: ignore[call-arg]  # mypy is not smart enough here\u001b[0m\u001b[1;33m\u001b[0m\u001b[1;33m\u001b[0m\u001b[0m\n\u001b[1;32m--> 247\u001b[1;33m         \u001b[1;32mraise\u001b[0m \u001b[0mexception_class\u001b[0m\u001b[1;33m(\u001b[0m\u001b[0mmessage\u001b[0m\u001b[1;33m,\u001b[0m \u001b[0mscreen\u001b[0m\u001b[1;33m,\u001b[0m \u001b[0mstacktrace\u001b[0m\u001b[1;33m)\u001b[0m\u001b[1;33m\u001b[0m\u001b[1;33m\u001b[0m\u001b[0m\n\u001b[0m\u001b[0;32m    248\u001b[0m \u001b[1;33m\u001b[0m\u001b[0m\n\u001b[0;32m    249\u001b[0m     \u001b[1;32mdef\u001b[0m \u001b[0m_value_or_default\u001b[0m\u001b[1;33m(\u001b[0m\u001b[0mself\u001b[0m\u001b[1;33m,\u001b[0m \u001b[0mobj\u001b[0m\u001b[1;33m:\u001b[0m \u001b[0mMapping\u001b[0m\u001b[1;33m[\u001b[0m\u001b[0m_KT\u001b[0m\u001b[1;33m,\u001b[0m \u001b[0m_VT\u001b[0m\u001b[1;33m]\u001b[0m\u001b[1;33m,\u001b[0m \u001b[0mkey\u001b[0m\u001b[1;33m:\u001b[0m \u001b[0m_KT\u001b[0m\u001b[1;33m,\u001b[0m \u001b[0mdefault\u001b[0m\u001b[1;33m:\u001b[0m \u001b[0m_VT\u001b[0m\u001b[1;33m)\u001b[0m \u001b[1;33m->\u001b[0m \u001b[0m_VT\u001b[0m\u001b[1;33m:\u001b[0m\u001b[1;33m\u001b[0m\u001b[1;33m\u001b[0m\u001b[0m\n",
      "\u001b[1;31mWebDriverException\u001b[0m: Message: chrome not reachable\n  (Session info: chrome=102.0.5005.63)\nStacktrace:\nBacktrace:\n\tOrdinal0 [0x002AB8F3+2406643]\n\tOrdinal0 [0x0023AF31+1945393]\n\tOrdinal0 [0x0012C610+837136]\n\tOrdinal0 [0x00120442+787522]\n\tOrdinal0 [0x00113F21+737057]\n\tOrdinal0 [0x0017A6F0+1156848]\n\tOrdinal0 [0x00174243+1131075]\n\tOrdinal0 [0x0014E636+976438]\n\tOrdinal0 [0x0014F546+980294]\n\tGetHandleVerifier [0x00519612+2498066]\n\tGetHandleVerifier [0x0050C920+2445600]\n\tGetHandleVerifier [0x00344F2A+579370]\n\tGetHandleVerifier [0x00343D36+574774]\n\tOrdinal0 [0x00241C0B+1973259]\n\tOrdinal0 [0x00246688+1992328]\n\tOrdinal0 [0x00246775+1992565]\n\tOrdinal0 [0x0024F8D1+2029777]\n\tBaseThreadInitThunk [0x765FFA29+25]\n\tRtlGetAppContainerNamedObjectPath [0x77BD7A7E+286]\n\tRtlGetAppContainerNamedObjectPath [0x77BD7A4E+238]\n\t(No symbol) [0x00000000]\n"
     ]
    }
   ],
   "source": [
    "def createFolder(directory): \n",
    "    try: \n",
    "        if not os.path.exists(directory): \n",
    "            os.makedirs(directory) \n",
    "    except OSError: \n",
    "        print ('Error: Creating directory. ' + directory)\n",
    "#새로 폴더 하나 생성하는 함수 작성\n",
    "        \n",
    "keyword='아이유' # 검색어\n",
    "createFolder('./'+keyword+'_이미지') # 폴더 만들기\n",
    "\n",
    "chromedriver = './driver/chromedriver' # 크롬드라이브 위치\n",
    "driver = webdriver.Chrome(chromedriver) \n",
    "driver.maximize_window()\n",
    "driver.implicitly_wait(3)\n",
    "\n",
    "\n",
    "# 구글 이미지 검색 접속 및 검색어 입력\n",
    "driver.get('https://www.google.co.kr/imghp?hl=ko') #이미지 검색 창 \n",
    "\n",
    "Keyword=driver.find_element_by_xpath('//*[@id=\"sbtc\"]/div/div[2]/input') \n",
    "Keyword.send_keys(keyword) \n",
    "\n",
    "driver.find_element_by_xpath('//*[@id=\"sbtc\"]/button').send_keys(Keys.ENTER) \n",
    "\n",
    "\n",
    "# 스크롤\n",
    "elem = driver.find_element_by_tag_name(\"body\") \n",
    "for i in range(100): \n",
    "    elem.send_keys(Keys.PAGE_DOWN) \n",
    "    time.sleep(0.1) \n",
    "\n",
    "try: \n",
    "    driver.find_element_by_xpath('//*[@id=\"islmp\"]/div/div/div/div[1]/div[4]/div[2]/input').click()\n",
    "    for i in range(100): \n",
    "        elem.send_keys(Keys.PAGE_DOWN) \n",
    "        time.sleep(0.1) \n",
    "except: \n",
    "    pass\n",
    "\n",
    "\n",
    "# 이미지 개수\n",
    "links=[] \n",
    "images = driver.find_elements_by_css_selector(\"img.rg_i.Q4LuWd\") \n",
    "for image in images: \n",
    "    if image.get_attribute('src')!=None: \n",
    "        links.append(image.get_attribute('src')) \n",
    "        \n",
    "print(keyword+' 찾은 이미지 개수:',len(links)) \n",
    "time.sleep(2)\n",
    "\n",
    "\n",
    "# 이미지 다운로드\n",
    "for k,i in enumerate(links): \n",
    "    url = i \n",
    "    start = time.time() \n",
    "    urllib.request.urlretrieve(url, './'+keyword+'_이미지/'+keyword+\"_\"+str(k)+\".jpg\") \n",
    "    \n",
    "print(keyword+' -다운로드 완료-') \n",
    "driver.close()"
   ]
  },
  {
   "cell_type": "code",
   "execution_count": 20,
   "id": "1ba5e766",
   "metadata": {},
   "outputs": [
    {
     "name": "stderr",
     "output_type": "stream",
     "text": [
      "C:\\Users\\user\\AppData\\Local\\Temp/ipykernel_51132/4147215107.py:12: DeprecationWarning: executable_path has been deprecated, please pass in a Service object\n",
      "  driver = webdriver.Chrome(chromedriver)\n",
      "C:\\Users\\user\\AppData\\Local\\Temp/ipykernel_51132/4147215107.py:21: DeprecationWarning: find_element_by_* commands are deprecated. Please use find_element() instead\n",
      "  Keyword=driver.find_element_by_xpath('//*[@id=\"sbtc\"]/div/div[2]/input')\n",
      "C:\\Users\\user\\AppData\\Local\\Temp/ipykernel_51132/4147215107.py:24: DeprecationWarning: find_element_by_* commands are deprecated. Please use find_element() instead\n",
      "  driver.find_element_by_xpath('//*[@id=\"sbtc\"]/button').send_keys(Keys.ENTER)\n"
     ]
    }
   ],
   "source": [
    "def createFolder(directory): \n",
    "    try: \n",
    "        if not os.path.exists(directory): \n",
    "            os.makedirs(directory) \n",
    "    except OSError: \n",
    "        print ('Error: Creating directory. ' + directory)\n",
    "\n",
    "keyword='샤넬 가방' # 검색어\n",
    "createFolder('./'+keyword+'고화질_이미지') # 폴더 만들기\n",
    "\n",
    "chromedriver = './driver/chromedriver' # 크롬드라이브 위치\n",
    "driver = webdriver.Chrome(chromedriver) \n",
    "driver.maximize_window()\n",
    "driver.implicitly_wait(3)\n",
    "\n",
    "\n",
    "# 구글 이미지 검색 접속 및 검색어 입력\n",
    "driver.get('https://www.google.co.kr/imghp?hl=ko') \n",
    "\n",
    "\n",
    "Keyword=driver.find_element_by_xpath('//*[@id=\"sbtc\"]/div/div[2]/input') \n",
    "Keyword.send_keys(keyword) \n",
    "\n",
    "driver.find_element_by_xpath('//*[@id=\"sbtc\"]/button').send_keys(Keys.ENTER) \n"
   ]
  },
  {
   "cell_type": "code",
   "execution_count": null,
   "id": "8db38a60",
   "metadata": {},
   "outputs": [],
   "source": [
    "#고화질 이미지 크롤링(많은 시간 소요)"
   ]
  },
  {
   "cell_type": "code",
   "execution_count": 28,
   "id": "a1adc6a2",
   "metadata": {
    "scrolled": true
   },
   "outputs": [
    {
     "name": "stderr",
     "output_type": "stream",
     "text": [
      "C:\\Users\\user\\AppData\\Local\\Temp/ipykernel_51132/2643491421.py:2: DeprecationWarning: find_element_by_* commands are deprecated. Please use find_element() instead\n",
      "  elem = driver.find_element_by_tag_name(\"body\")\n",
      "C:\\Users\\user\\AppData\\Local\\Temp/ipykernel_51132/2643491421.py:8: DeprecationWarning: find_element_by_* commands are deprecated. Please use find_element() instead\n",
      "  driver.find_element_by_xpath('//*[@id=\"islmp\"]/div/div/div/div[1]/div[4]/div[2]/input').click()\n",
      "C:\\Users\\user\\AppData\\Local\\Temp/ipykernel_51132/2643491421.py:17: DeprecationWarning: find_element_by_* commands are deprecated. Please use find_element() instead\n",
      "  driver.find_element_by_xpath('//*[@id=\"islrg\"]/div[1]/div['+str(i)+']/a[1]/div[1]/img').click()\n",
      "C:\\Users\\user\\AppData\\Local\\Temp/ipykernel_51132/2643491421.py:18: DeprecationWarning: find_element_by_* commands are deprecated. Please use find_element() instead\n",
      "  links.append(driver.find_element_by_xpath('//*[@id=\"Sva75c\"]/div/div/div[3]/div[2]/c-wiz/div/div[1]/div[1]/div/div[2]/a/img').get_attribute('src'))\n"
     ]
    },
    {
     "name": "stdout",
     "output_type": "stream",
     "text": [
      "샤넬 가방 ---다운로드 완료---\n"
     ]
    }
   ],
   "source": [
    "# 스크롤\n",
    "elem = driver.find_element_by_tag_name(\"body\") \n",
    "for i in range(50): \n",
    "    elem.send_keys(Keys.PAGE_DOWN) \n",
    "    time.sleep(0.1) \n",
    "\n",
    "try: \n",
    "    driver.find_element_by_xpath('//*[@id=\"islmp\"]/div/div/div/div[1]/div[4]/div[2]/input').click() \n",
    "    for i in range(50): \n",
    "        elem.send_keys(Keys.PAGE_DOWN) \n",
    "        time.sleep(0.1) \n",
    "except: \n",
    "    pass\n",
    "links=[] \n",
    "for i in range(1,len(images)): \n",
    "    try: \n",
    "        driver.find_element_by_xpath('//*[@id=\"islrg\"]/div[1]/div['+str(i)+']/a[1]/div[1]/img').click() \n",
    "        links.append(driver.find_element_by_xpath('//*[@id=\"Sva75c\"]/div/div/div[3]/div[2]/c-wiz/div/div[1]/div[1]/div/div[2]/a/img').get_attribute('src'))\n",
    "        print(keyword+' 링크 수집 중..... number :'+str(i)+'/'+str(len(images))) \n",
    "    except: continue \n",
    "forbidden=0 \n",
    "for k,i in enumerate(links): \n",
    "    try: \n",
    "        url = i \n",
    "        start = time.time() \n",
    "        urllib.request.urlretrieve(url, './'+keyword+'고화질_이미지/'+keyword+str(k-forbidden)+\".jpg\") \n",
    "        print(str(k+1)+'/'+str(len(links))+' '+keyword+' 다운로드 중....... Download time : '+str(time.time() - start)[:5]+' 초') \n",
    "    except: \n",
    "        forbidden+=1 \n",
    "        continue\n",
    "print(keyword+' ---다운로드 완료---')\n",
    "driver.close()"
   ]
  },
  {
   "cell_type": "code",
   "execution_count": null,
   "id": "000cb92e",
   "metadata": {},
   "outputs": [],
   "source": []
  },
  {
   "cell_type": "code",
   "execution_count": null,
   "id": "abb045ca",
   "metadata": {},
   "outputs": [],
   "source": []
  },
  {
   "cell_type": "code",
   "execution_count": null,
   "id": "aae71d13",
   "metadata": {},
   "outputs": [],
   "source": []
  },
  {
   "cell_type": "code",
   "execution_count": null,
   "id": "bd572bb9",
   "metadata": {},
   "outputs": [],
   "source": []
  }
 ],
 "metadata": {
  "kernelspec": {
   "display_name": "Python 3 (ipykernel)",
   "language": "python",
   "name": "python3"
  },
  "language_info": {
   "codemirror_mode": {
    "name": "ipython",
    "version": 3
   },
   "file_extension": ".py",
   "mimetype": "text/x-python",
   "name": "python",
   "nbconvert_exporter": "python",
   "pygments_lexer": "ipython3",
   "version": "3.9.7"
  }
 },
 "nbformat": 4,
 "nbformat_minor": 5
}
